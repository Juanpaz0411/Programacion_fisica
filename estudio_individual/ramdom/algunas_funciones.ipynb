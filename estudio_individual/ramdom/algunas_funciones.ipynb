{
 "cells": [
  {
   "attachments": {},
   "cell_type": "markdown",
   "metadata": {},
   "source": [
    "# RAMDOM"
   ]
  },
  {
   "attachments": {},
   "cell_type": "markdown",
   "metadata": {},
   "source": [
    "### ramdom.sample\n",
    "La función random.sample() toma los elementos de una secuencia iterable y devuelve una lista con esos elementos en un orden aleatorio sin repetición.\n",
    "random.sample(secuencia, k)\n",
    "\n",
    "- secuencia es una secuencia iterable de la cual se desea obtener la muestra aleatoria.\n",
    "- k es un número entero que indica el tamaño de la muestra que se desea obtener."
   ]
  },
  {
   "cell_type": "code",
   "execution_count": 28,
   "metadata": {},
   "outputs": [
    {
     "name": "stdout",
     "output_type": "stream",
     "text": [
      "10\n",
      "Muestra aleatoria: [7, 4, 3, 2, 9, 1, 6, 10, 8, 5]\n"
     ]
    }
   ],
   "source": [
    "import random\n",
    "\n",
    "# Obtener una muestra aleatoria única de 3 elementos de una lista\n",
    "lista = [1, 2, 3, 4, 5, 6, 7, 8, 9, 10]\n",
    "muestra = random.sample(lista, len(lista))\n",
    "print(len(lista))\n",
    "\n",
    "print('Muestra aleatoria:', muestra)\n"
   ]
  },
  {
   "cell_type": "code",
   "execution_count": 39,
   "metadata": {},
   "outputs": [
    {
     "name": "stdout",
     "output_type": "stream",
     "text": [
      "[59, 65, 20, 41, 62]\n"
     ]
    }
   ],
   "source": [
    "import random\n",
    "\n",
    "numeros = list(range(1, 101))#lista con elementos del 1 al 101 sin incluir este último.\n",
    "muestra = random.sample(numeros, 5)\n",
    "print(muestra)"
   ]
  },
  {
   "cell_type": "code",
   "execution_count": 27,
   "metadata": {},
   "outputs": [
    {
     "name": "stdout",
     "output_type": "stream",
     "text": [
      "['d', 'h', 'g', 'b', 'e', 'f', 'a', 'c']\n"
     ]
    }
   ],
   "source": [
    "import random\n",
    "\n",
    "cadena = \"abcdefgh\"\n",
    "muestra = random.sample(cadena, len(cadena))\n",
    "print(muestra)\n"
   ]
  },
  {
   "attachments": {},
   "cell_type": "markdown",
   "metadata": {},
   "source": [
    "### ramdom.shufle\n",
    "mezclar los elementos de una secuencia de forma aleatoria. La función altera la secuencia original en su lugar, es decir, no devuelve una nueva secuencia, sino que reordena los elementos de la secuencia existente.\n",
    "\n",
    "random.shuffle(secuencia)\n",
    "- secuencia es una secuencia mutable, como una lista, que se desea mezclar aleatoriamente."
   ]
  },
  {
   "cell_type": "code",
   "execution_count": 38,
   "metadata": {},
   "outputs": [
    {
     "name": "stdout",
     "output_type": "stream",
     "text": [
      "[5, 2, 4, 1, 3]\n"
     ]
    }
   ],
   "source": [
    "import random\n",
    "\n",
    "numeros = [1, 2, 3, 4, 5]\n",
    "random.shuffle(numeros)\n",
    "print(numeros)\n"
   ]
  },
  {
   "cell_type": "code",
   "execution_count": 41,
   "metadata": {},
   "outputs": [
    {
     "name": "stdout",
     "output_type": "stream",
     "text": [
      "['h', 'o', 'l', 'a']\n",
      "halo\n"
     ]
    }
   ],
   "source": [
    "import random\n",
    "\n",
    "cadena = \"hola\"\n",
    "lista = list(cadena)  # Convertir la cadena en una lista mutable\n",
    "print(lista)\n",
    "random.shuffle(lista)  # Mezclar los elementos de la lista\n",
    "cadena_mezclada = ''.join(lista)  # Convertir la lista de nuevo en una cadena\n",
    "\n",
    "print(cadena_mezclada)\n"
   ]
  },
  {
   "attachments": {},
   "cell_type": "markdown",
   "metadata": {},
   "source": [
    "### ramdom.randint\n",
    "random.randint(a, b) La función devuelve un número entero aleatorio que se encuentra entre a y b, ambos valores incluidos.\n",
    "\n",
    "random.randint(a, b)\n",
    "- a es el límite inferior del rango.\n",
    "- b es el límite superior del rango."
   ]
  },
  {
   "cell_type": "code",
   "execution_count": 42,
   "metadata": {},
   "outputs": [
    {
     "name": "stdout",
     "output_type": "stream",
     "text": [
      "5\n"
     ]
    }
   ],
   "source": [
    "import random\n",
    "\n",
    "numero_aleatorio = random.randint(1, 10)\n",
    "print(numero_aleatorio)\n"
   ]
  },
  {
   "attachments": {},
   "cell_type": "markdown",
   "metadata": {},
   "source": [
    "### ramdom.choises\n",
    " se utiliza para hacer selecciones aleatorias con reemplazo de una población de elementos. Toma varios argumentos para definir la población, los pesos (opcionalmente) y la cantidad de selecciones que se desean realizar.\n",
    "\n",
    " random.choices(population, weights=None, cum_weights=None, k=1)\n",
    "\n",
    "- population: Especifica la población de la cual se realizarán las selecciones. Puede ser una secuencia, como una lista o una cadena de caracteres.\n",
    "- weights (opcional): Una secuencia de números que asigna pesos a cada elemento de la población. Los elementos con pesos más altos tienen más probabilidades de ser seleccionados. Si no se especifica, todos los elementos de la población tienen la misma probabilidad de ser seleccionados.\n",
    "- cum_weights (opcional): Una secuencia de números que proporciona los pesos acumulados de la población. Se utiliza en lugar de weights si se especifica. Si tanto weights como cum_weights se proporcionan, weights se ignora.\n",
    "- k: El número de selecciones que se desean realizar. Por defecto, es igual a 1."
   ]
  },
  {
   "cell_type": "code",
   "execution_count": 4,
   "metadata": {},
   "outputs": [
    {
     "name": "stdout",
     "output_type": "stream",
     "text": [
      "['azul', 'verde', 'rojo']\n"
     ]
    }
   ],
   "source": [
    "import random\n",
    "\n",
    "poblacion = ['rojo', 'verde', 'azul']\n",
    "selecciones = random.choices(poblacion, k=3)\n",
    "print(selecciones)\n"
   ]
  },
  {
   "cell_type": "code",
   "execution_count": 10,
   "metadata": {},
   "outputs": [
    {
     "name": "stdout",
     "output_type": "stream",
     "text": [
      "['opción3', 'opción3']\n"
     ]
    }
   ],
   "source": [
    "import random\n",
    "\n",
    "opciones = ['opción1', 'opción2', 'opción3']\n",
    "pesos = [0.1, 0.3, 0.6]\n",
    "seleccion = random.choices(opciones, weights=pesos, k=2)\n",
    "print(seleccion)\n"
   ]
  },
  {
   "cell_type": "code",
   "execution_count": null,
   "metadata": {},
   "outputs": [],
   "source": []
  }
 ],
 "metadata": {
  "kernelspec": {
   "display_name": "base",
   "language": "python",
   "name": "python3"
  },
  "language_info": {
   "codemirror_mode": {
    "name": "ipython",
    "version": 3
   },
   "file_extension": ".py",
   "mimetype": "text/x-python",
   "name": "python",
   "nbconvert_exporter": "python",
   "pygments_lexer": "ipython3",
   "version": "3.10.9"
  },
  "orig_nbformat": 4
 },
 "nbformat": 4,
 "nbformat_minor": 2
}
