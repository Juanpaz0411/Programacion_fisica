{
 "cells": [
  {
   "attachments": {},
   "cell_type": "markdown",
   "metadata": {},
   "source": [
    "# RAMDOM"
   ]
  },
  {
   "attachments": {},
   "cell_type": "markdown",
   "metadata": {},
   "source": [
    "### ramdom.sample\n",
    "La función random.sample() toma los elementos de una secuencia iterable y devuelve una lista con esos elementos en un orden aleatorio sin repetición.\n",
    "random.sample(secuencia, k)\n",
    "\n",
    "- secuencia es una secuencia iterable de la cual se desea obtener la muestra aleatoria.\n",
    "- k es un número entero que indica el tamaño de la muestra que se desea obtener."
   ]
  },
  {
   "cell_type": "code",
   "execution_count": 28,
   "metadata": {},
   "outputs": [
    {
     "name": "stdout",
     "output_type": "stream",
     "text": [
      "10\n",
      "Muestra aleatoria: [7, 4, 3, 2, 9, 1, 6, 10, 8, 5]\n"
     ]
    }
   ],
   "source": [
    "import random\n",
    "\n",
    "# Obtener una muestra aleatoria única de 3 elementos de una lista\n",
    "lista = [1, 2, 3, 4, 5, 6, 7, 8, 9, 10]\n",
    "muestra = random.sample(lista, len(lista))\n",
    "print(len(lista))\n",
    "\n",
    "print('Muestra aleatoria:', muestra)\n"
   ]
  },
  {
   "cell_type": "code",
   "execution_count": 39,
   "metadata": {},
   "outputs": [
    {
     "name": "stdout",
     "output_type": "stream",
     "text": [
      "[59, 65, 20, 41, 62]\n"
     ]
    }
   ],
   "source": [
    "import random\n",
    "\n",
    "numeros = list(range(1, 101))#lista con elementos del 1 al 101 sin incluir este último.\n",
    "muestra = random.sample(numeros, 5)\n",
    "print(muestra)"
   ]
  },
  {
   "cell_type": "code",
   "execution_count": 27,
   "metadata": {},
   "outputs": [
    {
     "name": "stdout",
     "output_type": "stream",
     "text": [
      "['d', 'h', 'g', 'b', 'e', 'f', 'a', 'c']\n"
     ]
    }
   ],
   "source": [
    "import random\n",
    "\n",
    "cadena = \"abcdefgh\"\n",
    "muestra = random.sample(cadena, len(cadena))\n",
    "print(muestra)\n"
   ]
  },
  {
   "attachments": {},
   "cell_type": "markdown",
   "metadata": {},
   "source": [
    "### ramdom.shufle\n",
    "mezclar los elementos de una secuencia de forma aleatoria. La función altera la secuencia original en su lugar, es decir, no devuelve una nueva secuencia, sino que reordena los elementos de la secuencia existente.\n",
    "\n",
    "random.shuffle(secuencia)\n",
    "- secuencia es una secuencia mutable, como una lista, que se desea mezclar aleatoriamente."
   ]
  },
  {
   "cell_type": "code",
   "execution_count": 38,
   "metadata": {},
   "outputs": [
    {
     "name": "stdout",
     "output_type": "stream",
     "text": [
      "[5, 2, 4, 1, 3]\n"
     ]
    }
   ],
   "source": [
    "import random\n",
    "\n",
    "numeros = [1, 2, 3, 4, 5]\n",
    "random.shuffle(numeros)\n",
    "print(numeros)\n"
   ]
  },
  {
   "cell_type": "code",
   "execution_count": 41,
   "metadata": {},
   "outputs": [
    {
     "name": "stdout",
     "output_type": "stream",
     "text": [
      "['h', 'o', 'l', 'a']\n",
      "halo\n"
     ]
    }
   ],
   "source": [
    "import random\n",
    "\n",
    "cadena = \"hola\"\n",
    "lista = list(cadena)  # Convertir la cadena en una lista mutable\n",
    "print(lista)\n",
    "random.shuffle(lista)  # Mezclar los elementos de la lista\n",
    "cadena_mezclada = ''.join(lista)  # Convertir la lista de nuevo en una cadena\n",
    "\n",
    "print(cadena_mezclada)\n"
   ]
  },
  {
   "attachments": {},
   "cell_type": "markdown",
   "metadata": {},
   "source": [
    "### ramdom.randint\n",
    "random.randint(a, b) La función devuelve un número entero aleatorio que se encuentra entre a y b, ambos valores incluidos.\n",
    "\n",
    "random.randint(a, b)\n",
    "- a es el límite inferior del rango.\n",
    "- b es el límite superior del rango."
   ]
  },
  {
   "cell_type": "code",
   "execution_count": 42,
   "metadata": {},
   "outputs": [
    {
     "name": "stdout",
     "output_type": "stream",
     "text": [
      "5\n"
     ]
    }
   ],
   "source": [
    "import random\n",
    "\n",
    "numero_aleatorio = random.randint(1, 10)\n",
    "print(numero_aleatorio)\n"
   ]
  },
  {
   "cell_type": "code",
   "execution_count": null,
   "metadata": {},
   "outputs": [],
   "source": []
  }
 ],
 "metadata": {
  "kernelspec": {
   "display_name": "base",
   "language": "python",
   "name": "python3"
  },
  "language_info": {
   "codemirror_mode": {
    "name": "ipython",
    "version": 3
   },
   "file_extension": ".py",
   "mimetype": "text/x-python",
   "name": "python",
   "nbconvert_exporter": "python",
   "pygments_lexer": "ipython3",
   "version": "3.10.9"
  },
  "orig_nbformat": 4
 },
 "nbformat": 4,
 "nbformat_minor": 2
}
