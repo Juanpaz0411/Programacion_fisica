{
 "cells": [
  {
   "attachments": {},
   "cell_type": "markdown",
   "metadata": {},
   "source": [
    "# FUNCION LAMBDA\n",
    "las funciones lambda  es una funcion anonima que permite simplificar codigo resume una funcion\n",
    "normal en una expresion lambda.\n",
    "\n",
    "Una función lambda es una función sin nombre que se define en línea y se utiliza en el lugar\n",
    "donde se necesita.. No requiere una declaración formal y no está ligada a un identificador\n",
    "específico."
   ]
  },
  {
   "cell_type": "code",
   "execution_count": 3,
   "metadata": {},
   "outputs": [
    {
     "name": "stdout",
     "output_type": "stream",
     "text": [
      "10.0\n",
      "10.0\n"
     ]
    }
   ],
   "source": [
    "#ejemplo 0\n",
    "#funcion normal: cuando las funciones son sencillas es posible convertir a una funcion lambda\n",
    "def area_triangulo(base,altura):\n",
    "    return(base*altura)/2\n",
    "print(area_triangulo(4,5))\n",
    "\n",
    "\n",
    "\n",
    "area = lambda base, altura: (base*altura)/2\n",
    "print(area(4,5))"
   ]
  },
  {
   "cell_type": "code",
   "execution_count": 2,
   "metadata": {},
   "outputs": [
    {
     "name": "stdout",
     "output_type": "stream",
     "text": [
      "8\n"
     ]
    }
   ],
   "source": [
    "# ejemplo 1\n",
    "suma = lambda a, b: a + b #antes de los puntos estan los argumentos de la funcion, luego viene lo que se hara con esos parametros\n",
    "print(suma(3, 5))  # resultado es 8\n"
   ]
  },
  {
   "attachments": {},
   "cell_type": "markdown",
   "metadata": {},
   "source": [
    "## como se hace ?\n",
    "para hacer una funcion lambda se guarda el lambda en una variable y a partir de aqui se \n",
    "establecen los parametro de esta funcion anónima, luego se especifica lo que se retornara."
   ]
  },
  {
   "cell_type": "code",
   "execution_count": 5,
   "metadata": {},
   "outputs": [
    {
     "name": "stdout",
     "output_type": "stream",
     "text": [
      "area del triangulo es:  1.0\n"
     ]
    }
   ],
   "source": [
    "#ejemplo 2\n",
    "area = lambda base, altura: (base*altura)/2 #funcion area de un triangulo\n",
    "try:\n",
    "    base = float(input('ingrese el area de el triangulo:\\n'))\n",
    "    altura = float(input('\\ningrese la altura de el triangulo:\\n'))\n",
    "    print('area del triangulo es: ', area(base,altura))\n",
    "except ValueError:\n",
    "    print('mamahuevo, digo glu, glu, glu, glu, glu ')"
   ]
  },
  {
   "cell_type": "code",
   "execution_count": 6,
   "metadata": {},
   "outputs": [
    {
     "name": "stdout",
     "output_type": "stream",
     "text": [
      "2197\n"
     ]
    }
   ],
   "source": [
    "#ejemplo 3\n",
    "# al_cubo = lambda numero : numero**3\n",
    "al_cubo = lambda numero : pow(numero, 3)\n",
    "print(al_cubo(13))"
   ]
  },
  {
   "attachments": {},
   "cell_type": "markdown",
   "metadata": {},
   "source": [
    "### funcion pow()\n",
    "pow() en Python es una función incorporada que se utiliza para realizar operaciones de\n",
    "potencia.\n",
    "La función pow() acepta dos argumentos: la base y el exponente."
   ]
  },
  {
   "cell_type": "code",
   "execution_count": null,
   "metadata": {},
   "outputs": [],
   "source": []
  }
 ],
 "metadata": {
  "kernelspec": {
   "display_name": "base",
   "language": "python",
   "name": "python3"
  },
  "language_info": {
   "codemirror_mode": {
    "name": "ipython",
    "version": 3
   },
   "file_extension": ".py",
   "mimetype": "text/x-python",
   "name": "python",
   "nbconvert_exporter": "python",
   "pygments_lexer": "ipython3",
   "version": "3.10.9"
  },
  "orig_nbformat": 4
 },
 "nbformat": 4,
 "nbformat_minor": 2
}
