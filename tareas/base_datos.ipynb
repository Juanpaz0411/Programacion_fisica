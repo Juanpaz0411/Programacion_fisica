{
 "cells": [
  {
   "attachments": {},
   "cell_type": "markdown",
   "metadata": {},
   "source": [
    "Tarea:\n",
    "\n",
    "conseguir una base de datos con columnas numericas y al menos una str -hacer un programa que reciba el nombre de un archivo csv en el mismo directorio y que el programa:\n",
    "\n",
    "1. retorne el nombre de las columnas y su tipo de datos\n",
    "2. Reciba el nombre de una columna str y una numerica\n",
    "3. Diga los valores únicos de esa columna\n",
    "4. que el usuario pueda ingresar uno de esos valors para filtrar los datos por ese valor\n",
    "5. Debe guardar en A los datos numericos sin los valores de esa columna numerica\n",
    "6. Debe guardar en Y los datos de esa columna numerica\n",
    "7. solucionar sistema AX=Y\n",
    "8. Exportar la solución en csv o excel\n",
    "se resuelve en el documento homeworkbases"
   ]
  },
  {
   "cell_type": "code",
   "execution_count": null,
   "metadata": {},
   "outputs": [],
   "source": []
  }
 ],
 "metadata": {
  "language_info": {
   "name": "python"
  },
  "orig_nbformat": 4
 },
 "nbformat": 4,
 "nbformat_minor": 2
}
