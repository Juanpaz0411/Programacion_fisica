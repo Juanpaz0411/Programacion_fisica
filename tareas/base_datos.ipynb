{
 "cells": [
  {
   "attachments": {},
   "cell_type": "markdown",
   "metadata": {},
   "source": [
    "# TAREA\n",
    "\n",
    "conseguir una base de datos con columnas numericas y al menos una str -hacer un programa que reciba el nombre de un archivo csv en el mismo directorio y que el programa:\n",
    "\n",
    "1. retorne el nombre de las columnas y su tipo de datos\n",
    "2. Reciba el nombre de una columna str y una numerica\n",
    "3. Diga los valores únicos de esa columna\n",
    "4. que el usuario pueda ingresar uno de esos valors para filtrar los datos por ese valor\n",
    "5. Debe guardar en A los datos numericos sin los valores de esa columna numerica\n",
    "6. Debe guardar en Y los datos de esa columna numerica\n",
    "7. solucionar sistema AX=Y\n",
    "8. Exportar la solución en csv o excel\n",
    "se resuelve en el documento homeworkbases"
   ]
  },
  {
   "cell_type": "code",
   "execution_count": null,
   "metadata": {},
   "outputs": [
    {
     "name": "stdout",
     "output_type": "stream",
     "text": [
      "       No. Planet Name Planet Host  Num Stars  Num Planets Discovery Method  \\\n",
      "0        1    11 Com b      11 Com          2            1  Radial Velocity   \n",
      "1        2    11 UMi b      11 UMi          1            1  Radial Velocity   \n",
      "2        3    14 And b      14 And          1            1  Radial Velocity   \n",
      "3        4    14 Her b      14 Her          1            2  Radial Velocity   \n",
      "4        5  16 Cyg B b    16 Cyg B          3            1  Radial Velocity   \n",
      "...    ...         ...         ...        ...          ...              ...   \n",
      "4570  4571   tau Gem b     tau Gem          1            1  Radial Velocity   \n",
      "4571  4572   ups And b     ups And          2            3  Radial Velocity   \n",
      "4572  4573   ups And c     ups And          2            3  Radial Velocity   \n",
      "4573  4574   ups And d     ups And          2            3  Radial Velocity   \n",
      "4574  4575    xi Aql b      xi Aql          1            1  Radial Velocity   \n",
      "\n",
      "      Discovery Year                      Discovery Facility  \\\n",
      "0               2007                        Xinglong Station   \n",
      "1               2009  Thueringer Landessternwarte Tautenburg   \n",
      "2               2008       Okayama Astrophysical Observatory   \n",
      "3               2002                  W. M. Keck Observatory   \n",
      "4               1996                  Multiple Observatories   \n",
      "...              ...                                     ...   \n",
      "4570            2013                        Lick Observatory   \n",
      "4571            1996                        Lick Observatory   \n",
      "4572            1999                  Multiple Observatories   \n",
      "4573            1999                  Multiple Observatories   \n",
      "4574            2007       Okayama Astrophysical Observatory   \n",
      "\n",
      "      Orbital Period Days  Orbit Semi-Major Axis  ...  \\\n",
      "0              326.030000               1.290000  ...   \n",
      "1              516.219970               1.530000  ...   \n",
      "2              185.840000               0.830000  ...   \n",
      "3             1773.400020               2.930000  ...   \n",
      "4              798.500000               1.660000  ...   \n",
      "...                   ...                    ...  ...   \n",
      "4570           305.500000               1.170000  ...   \n",
      "4571             4.617033               0.059222  ...   \n",
      "4572           241.258000               0.827774  ...   \n",
      "4573          1276.460000               2.513290  ...   \n",
      "4574           136.750000               0.680000  ...   \n",
      "\n",
      "      Equilibrium Temperature  Spectral Type  Stellar Effective Temperature  \\\n",
      "0                         NaN         G8 III                         4742.0   \n",
      "1                         NaN            NaN                         4213.0   \n",
      "2                         NaN         K0 III                         4813.0   \n",
      "3                         NaN            NaN                         5338.0   \n",
      "4                         NaN            NaN                         5750.0   \n",
      "...                       ...            ...                            ...   \n",
      "4570                      NaN         K2 III                         4388.0   \n",
      "4571                      NaN           F8 V                            NaN   \n",
      "4572                      NaN           F8 V                            NaN   \n",
      "4573                      NaN           F8 V                            NaN   \n",
      "4574                      NaN            NaN                         4780.0   \n",
      "\n",
      "     Stellar Radius Stellar Mass  Stellar Metallicity  \\\n",
      "0             19.00         2.70                -0.35   \n",
      "1             29.79         2.78                -0.02   \n",
      "2             11.00         2.20                -0.24   \n",
      "3              0.93         0.90                 0.41   \n",
      "4              1.13         1.08                 0.06   \n",
      "...             ...          ...                  ...   \n",
      "4570          26.80         2.30                 0.14   \n",
      "4571           1.56         1.30                  NaN   \n",
      "4572           1.56         1.30                  NaN   \n",
      "4573           1.56         1.30                  NaN   \n",
      "4574          12.00         2.20               -0.205   \n",
      "\n",
      "      Stellar Metallicity Ratio  Stellar Surface Gravity  Distance  \\\n",
      "0                        [Fe/H]                     2.31   93.1846   \n",
      "1                        [Fe/H]                     1.93  125.3210   \n",
      "2                        [Fe/H]                     2.63   75.4392   \n",
      "3                        [Fe/H]                     4.45   17.9323   \n",
      "4                        [Fe/H]                     4.36   21.1397   \n",
      "...                         ...                      ...       ...   \n",
      "4570                     [Fe/H]                     1.96  112.5370   \n",
      "4571                        NaN                      NaN   13.4054   \n",
      "4572                        NaN                      NaN   13.4054   \n",
      "4573                        NaN                      NaN   13.4054   \n",
      "4574                     [Fe/H]                     2.66   56.1858   \n",
      "\n",
      "     Gaia Magnitude  \n",
      "0           4.44038  \n",
      "1           4.56216  \n",
      "2           4.91781  \n",
      "3           6.38300  \n",
      "4           6.06428  \n",
      "...             ...  \n",
      "4570        4.03996  \n",
      "4571        3.98687  \n",
      "4572        3.98687  \n",
      "4573        3.98687  \n",
      "4574        4.42501  \n",
      "\n",
      "[4575 rows x 23 columns]\n"
     ]
    }
   ],
   "source": [
    "import pandas as pd\n",
    "import numpy as np\n",
    "\n",
    "#C:\\Users\\USUARIO WINDOWS\\programacion\\Programacion_fisica\\Programacion_fisica\\tareas\\exo_2.csv\n",
    "df = pd.read_csv(r\"C:\\Users\\USUARIO WINDOWS\\programacion\\Programacion_fisica\\Programacion_fisica\\tareas\\exo_2.csv\", sep=\",\")\n",
    "\n",
    "print(df)\n"
   ]
  },
  {
   "attachments": {},
   "cell_type": "markdown",
   "metadata": {},
   "source": [
    "1. retorne el nombre de las columnas y su tipo de datos"
   ]
  },
  {
   "cell_type": "code",
   "execution_count": 2,
   "metadata": {},
   "outputs": [
    {
     "name": "stdout",
     "output_type": "stream",
     "text": [
      "No.                                int64\n",
      "Planet Name                       object\n",
      "Planet Host                       object\n",
      "Num Stars                          int64\n",
      "Num Planets                        int64\n",
      "Discovery Method                  object\n",
      "Discovery Year                     int64\n",
      "Discovery Facility                object\n",
      "Orbital Period Days              float64\n",
      "Orbit Semi-Major Axis            float64\n",
      "Mass                             float64\n",
      "Eccentricity                     float64\n",
      "Insolation Flux                  float64\n",
      "Equilibrium Temperature           object\n",
      "Spectral Type                     object\n",
      "Stellar Effective Temperature    float64\n",
      "Stellar Radius                   float64\n",
      "Stellar Mass                     float64\n",
      "Stellar Metallicity               object\n",
      "Stellar Metallicity Ratio         object\n",
      "Stellar Surface Gravity          float64\n",
      "Distance                         float64\n",
      "Gaia Magnitude                   float64\n",
      "dtype: object\n"
     ]
    }
   ],
   "source": [
    "print(df.dtypes)"
   ]
  },
  {
   "attachments": {},
   "cell_type": "markdown",
   "metadata": {},
   "source": [
    "2. Reciba el nombre de una columna str y una numerica"
   ]
  },
  {
   "cell_type": "code",
   "execution_count": 3,
   "metadata": {},
   "outputs": [
    {
     "name": "stdout",
     "output_type": "stream",
     "text": [
      "Planet Name \n",
      " Orbit Semi-Major Axis\n"
     ]
    }
   ],
   "source": [
    "columna1 = input(\"Ingrese el nombre de la columna STR: \").strip()\n",
    "columna2 = input(\"Ingrese el nombre de la columna NUMERICA: \").strip()\n",
    "# Planet Name  \n",
    "# Orbit Semi-Major Axis\n",
    "print(columna1,'\\n',columna2)"
   ]
  },
  {
   "attachments": {},
   "cell_type": "markdown",
   "metadata": {},
   "source": [
    "3. Diga los valores únicos de esa columna"
   ]
  },
  {
   "cell_type": "code",
   "execution_count": 4,
   "metadata": {},
   "outputs": [
    {
     "name": "stdout",
     "output_type": "stream",
     "text": [
      "['11 Com b' '11 UMi b' '14 And b' ... 'ups And c' 'ups And d' 'xi Aql b']\n",
      "[1.29     1.53     0.83     ... 0.059222 0.827774 2.51329 ]\n"
     ]
    }
   ],
   "source": [
    "print(df[columna1].unique())\n",
    "print(df[columna2].unique())"
   ]
  },
  {
   "attachments": {},
   "cell_type": "markdown",
   "metadata": {},
   "source": [
    "\n",
    "4. que el usuario pueda ingresar uno de esos valors para filtrar los datos por ese valor\n"
   ]
  },
  {
   "cell_type": "code",
   "execution_count": 33,
   "metadata": {},
   "outputs": [
    {
     "name": "stdout",
     "output_type": "stream",
     "text": [
      "\n",
      "Tabla filtrada:\n",
      "   No. Planet Name Planet Host  Num Stars  Num Planets Discovery Method  \\\n",
      "0    1    11 Com b      11 Com          2            1  Radial Velocity   \n",
      "1    2    11 UMi b      11 UMi          1            1  Radial Velocity   \n",
      "2    3    14 And b      14 And          1            1  Radial Velocity   \n",
      "\n",
      "   Discovery Year                      Discovery Facility  \\\n",
      "0            2007                        Xinglong Station   \n",
      "1            2009  Thueringer Landessternwarte Tautenburg   \n",
      "2            2008       Okayama Astrophysical Observatory   \n",
      "\n",
      "   Orbital Period Days  Orbit Semi-Major Axis  ...  Equilibrium Temperature  \\\n",
      "0            326.03000                   1.29  ...                      NaN   \n",
      "1            516.21997                   1.53  ...                      NaN   \n",
      "2            185.84000                   0.83  ...                      NaN   \n",
      "\n",
      "   Spectral Type  Stellar Effective Temperature Stellar Radius Stellar Mass  \\\n",
      "0         G8 III                         4742.0          19.00         2.70   \n",
      "1            NaN                         4213.0          29.79         2.78   \n",
      "2         K0 III                         4813.0          11.00         2.20   \n",
      "\n",
      "   Stellar Metallicity  Stellar Metallicity Ratio  Stellar Surface Gravity  \\\n",
      "0                -0.35                     [Fe/H]                     2.31   \n",
      "1                -0.02                     [Fe/H]                     1.93   \n",
      "2                -0.24                     [Fe/H]                     2.63   \n",
      "\n",
      "   Distance Gaia Magnitude  \n",
      "0   93.1846        4.44038  \n",
      "1  125.3210        4.56216  \n",
      "2   75.4392        4.91781  \n",
      "\n",
      "[3 rows x 23 columns]\n"
     ]
    }
   ],
   "source": [
    "filtro = df['No.'] < 4\n",
    "resultado = df[filtro]\n",
    "\n",
    "# Imprimir la tabla filtrada\n",
    "print(\"\\nTabla filtrada:\")\n",
    "print(resultado)"
   ]
  },
  {
   "attachments": {},
   "cell_type": "markdown",
   "metadata": {},
   "source": [
    "5. Debe guardar en A los datos numericos sin los valores de esa columna numerica\n"
   ]
  },
  {
   "cell_type": "code",
   "execution_count": 46,
   "metadata": {},
   "outputs": [
    {
     "name": "stdout",
     "output_type": "stream",
     "text": [
      "0       1.290000\n",
      "1       1.530000\n",
      "2       0.830000\n",
      "3       2.930000\n",
      "4       1.660000\n",
      "          ...   \n",
      "4570    1.170000\n",
      "4571    0.059222\n",
      "4572    0.827774\n",
      "4573    2.513290\n",
      "4574    0.680000\n",
      "Name: Orbit Semi-Major Axis, Length: 4575, dtype: float64\n",
      "\n",
      "el rango de la matriz es:  1\n"
     ]
    }
   ],
   "source": [
    "valor1 = input(\"Ingrese el valor de la columna 1: \")\n",
    "\n",
    "A = df[df[columna1] != valor1][columna2]\n",
    "rango_A = np.linalg.matrix_rank(A)\n",
    "\n",
    "print(A)\n",
    "print('\\nel rango de la matriz es: ', rango_A)"
   ]
  },
  {
   "attachments": {},
   "cell_type": "markdown",
   "metadata": {},
   "source": [
    "6. Debe guardar en Y los datos de esa columna numerica\n"
   ]
  },
  {
   "cell_type": "code",
   "execution_count": 40,
   "metadata": {},
   "outputs": [
    {
     "name": "stdout",
     "output_type": "stream",
     "text": [
      "0         11 Com b\n",
      "1         11 UMi b\n",
      "2         14 And b\n",
      "3         14 Her b\n",
      "4       16 Cyg B b\n",
      "           ...    \n",
      "4570     tau Gem b\n",
      "4571     ups And b\n",
      "4572     ups And c\n",
      "4573     ups And d\n",
      "4574      xi Aql b\n",
      "Name: Planet Name, Length: 4575, dtype: object\n"
     ]
    }
   ],
   "source": [
    "Y = df[df[columna1] == valor1][columna2]\n",
    "y = df[df[columna1] != valor1][columna1]\n",
    "print(y)"
   ]
  },
  {
   "attachments": {},
   "cell_type": "markdown",
   "metadata": {},
   "source": [
    "7. 8. solucionar sistema AX=Y, Exportar la solución en csv o excel\n"
   ]
  },
  {
   "cell_type": "code",
   "execution_count": 48,
   "metadata": {},
   "outputs": [
    {
     "name": "stdout",
     "output_type": "stream",
     "text": [
      "La matriz A no es invertible, hay columnas linealmente dependientes.\n"
     ]
    }
   ],
   "source": [
    "if rango_A < len(A):\n",
    "    print(\"La matriz A no es invertible, hay columnas linealmente dependientes.\")\n",
    "else:\n",
    "    # Resolver sistema de ecuaciones lineales AX = Y\n",
    "    X = np.linalg.solve(A, Y)\n",
    "    # Exportar el resultado a un archivo csv\n",
    "    np.savetxt('C:/Users/USUARIO WINDOWS/programacion/Programacion_fisica/Programacion_fisica/tareas/resultado.csv', X, delimiter=',')\n"
   ]
  },
  {
   "attachments": {},
   "cell_type": "markdown",
   "metadata": {},
   "source": []
  }
 ],
 "metadata": {
  "kernelspec": {
   "display_name": "base",
   "language": "python",
   "name": "python3"
  },
  "language_info": {
   "codemirror_mode": {
    "name": "ipython",
    "version": 3
   },
   "file_extension": ".py",
   "mimetype": "text/x-python",
   "name": "python",
   "nbconvert_exporter": "python",
   "pygments_lexer": "ipython3",
   "version": "3.10.9"
  },
  "orig_nbformat": 4
 },
 "nbformat": 4,
 "nbformat_minor": 2
}
