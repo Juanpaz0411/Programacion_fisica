{
 "cells": [
  {
   "attachments": {},
   "cell_type": "markdown",
   "metadata": {},
   "source": [
    "# TAREA\n",
    "\n",
    "conseguir una base de datos con columnas numericas y al menos una str -hacer un programa que reciba el nombre de un archivo csv en el mismo directorio y que el programa:\n",
    "\n",
    "1. retorne el nombre de las columnas y su tipo de datos\n",
    "2. Reciba el nombre de una columna str y una numerica\n",
    "3. Diga los valores únicos de esa columna\n",
    "4. que el usuario pueda ingresar uno de esos valors para filtrar los datos por ese valor\n",
    "5. Debe guardar en A los datos numericos sin los valores de esa columna numerica\n",
    "6. Debe guardar en Y los datos de esa columna numerica\n",
    "7. solucionar sistema AX=Y\n",
    "8. Exportar la solución en csv o excel\n",
    "se resuelve en el documento homeworkbases"
   ]
  },
  {
   "cell_type": "code",
   "execution_count": 21,
   "metadata": {},
   "outputs": [
    {
     "name": "stdout",
     "output_type": "stream",
     "text": [
      "       No. Planet Name Planet Host  Num Stars  Num Planets Discovery Method  \\\n",
      "0        1    11 Com b      11 Com          2            1  Radial Velocity   \n",
      "1        2    11 UMi b      11 UMi          1            1  Radial Velocity   \n",
      "2        3    14 And b      14 And          1            1  Radial Velocity   \n",
      "3        4    14 Her b      14 Her          1            2  Radial Velocity   \n",
      "4        5  16 Cyg B b    16 Cyg B          3            1  Radial Velocity   \n",
      "...    ...         ...         ...        ...          ...              ...   \n",
      "4570  4571   tau Gem b     tau Gem          1            1  Radial Velocity   \n",
      "4571  4572   ups And b     ups And          2            3  Radial Velocity   \n",
      "4572  4573   ups And c     ups And          2            3  Radial Velocity   \n",
      "4573  4574   ups And d     ups And          2            3  Radial Velocity   \n",
      "4574  4575    xi Aql b      xi Aql          1            1  Radial Velocity   \n",
      "\n",
      "      Discovery Year                      Discovery Facility  \\\n",
      "0               2007                        Xinglong Station   \n",
      "1               2009  Thueringer Landessternwarte Tautenburg   \n",
      "2               2008       Okayama Astrophysical Observatory   \n",
      "3               2002                  W. M. Keck Observatory   \n",
      "4               1996                  Multiple Observatories   \n",
      "...              ...                                     ...   \n",
      "4570            2013                        Lick Observatory   \n",
      "4571            1996                        Lick Observatory   \n",
      "4572            1999                  Multiple Observatories   \n",
      "4573            1999                  Multiple Observatories   \n",
      "4574            2007       Okayama Astrophysical Observatory   \n",
      "\n",
      "      Orbital Period Days  Orbit Semi-Major Axis  ...  \\\n",
      "0              326.030000               1.290000  ...   \n",
      "1              516.219970               1.530000  ...   \n",
      "2              185.840000               0.830000  ...   \n",
      "3             1773.400020               2.930000  ...   \n",
      "4              798.500000               1.660000  ...   \n",
      "...                   ...                    ...  ...   \n",
      "4570           305.500000               1.170000  ...   \n",
      "4571             4.617033               0.059222  ...   \n",
      "4572           241.258000               0.827774  ...   \n",
      "4573          1276.460000               2.513290  ...   \n",
      "4574           136.750000               0.680000  ...   \n",
      "\n",
      "      Equilibrium Temperature  Spectral Type  Stellar Effective Temperature  \\\n",
      "0                         NaN         G8 III                         4742.0   \n",
      "1                         NaN            NaN                         4213.0   \n",
      "2                         NaN         K0 III                         4813.0   \n",
      "3                         NaN            NaN                         5338.0   \n",
      "4                         NaN            NaN                         5750.0   \n",
      "...                       ...            ...                            ...   \n",
      "4570                      NaN         K2 III                         4388.0   \n",
      "4571                      NaN           F8 V                            NaN   \n",
      "4572                      NaN           F8 V                            NaN   \n",
      "4573                      NaN           F8 V                            NaN   \n",
      "4574                      NaN            NaN                         4780.0   \n",
      "\n",
      "     Stellar Radius Stellar Mass  Stellar Metallicity  \\\n",
      "0             19.00         2.70                -0.35   \n",
      "1             29.79         2.78                -0.02   \n",
      "2             11.00         2.20                -0.24   \n",
      "3              0.93         0.90                 0.41   \n",
      "4              1.13         1.08                 0.06   \n",
      "...             ...          ...                  ...   \n",
      "4570          26.80         2.30                 0.14   \n",
      "4571           1.56         1.30                  NaN   \n",
      "4572           1.56         1.30                  NaN   \n",
      "4573           1.56         1.30                  NaN   \n",
      "4574          12.00         2.20               -0.205   \n",
      "\n",
      "      Stellar Metallicity Ratio  Stellar Surface Gravity  Distance  \\\n",
      "0                        [Fe/H]                     2.31   93.1846   \n",
      "1                        [Fe/H]                     1.93  125.3210   \n",
      "2                        [Fe/H]                     2.63   75.4392   \n",
      "3                        [Fe/H]                     4.45   17.9323   \n",
      "4                        [Fe/H]                     4.36   21.1397   \n",
      "...                         ...                      ...       ...   \n",
      "4570                     [Fe/H]                     1.96  112.5370   \n",
      "4571                        NaN                      NaN   13.4054   \n",
      "4572                        NaN                      NaN   13.4054   \n",
      "4573                        NaN                      NaN   13.4054   \n",
      "4574                     [Fe/H]                     2.66   56.1858   \n",
      "\n",
      "     Gaia Magnitude  \n",
      "0           4.44038  \n",
      "1           4.56216  \n",
      "2           4.91781  \n",
      "3           6.38300  \n",
      "4           6.06428  \n",
      "...             ...  \n",
      "4570        4.03996  \n",
      "4571        3.98687  \n",
      "4572        3.98687  \n",
      "4573        3.98687  \n",
      "4574        4.42501  \n",
      "\n",
      "[4575 rows x 23 columns]\n"
     ]
    }
   ],
   "source": [
    "import pandas as pd\n",
    "import numpy as np\n",
    "\n",
    "#C:\\Users\\USUARIO WINDOWS\\programacion\\Programacion_fisica\\Programacion_fisica\\tareas\\exo_2.csv\n",
    "df = pd.read_csv(r\"C:\\Users\\USUARIO WINDOWS\\programacion\\Programacion_fisica\\Programacion_fisica\\tareas\\exo_2.csv\", sep=\",\")\n",
    "\n",
    "print(df)\n"
   ]
  },
  {
   "attachments": {},
   "cell_type": "markdown",
   "metadata": {},
   "source": [
    "1. retorne el nombre de las columnas y su tipo de datos"
   ]
  },
  {
   "cell_type": "code",
   "execution_count": 16,
   "metadata": {},
   "outputs": [
    {
     "name": "stdout",
     "output_type": "stream",
     "text": [
      "No.                                int64\n",
      "Planet Name                       object\n",
      "Planet Host                       object\n",
      "Num Stars                          int64\n",
      "Num Planets                        int64\n",
      "Discovery Method                  object\n",
      "Discovery Year                     int64\n",
      "Discovery Facility                object\n",
      "Orbital Period Days              float64\n",
      "Orbit Semi-Major Axis            float64\n",
      "Mass                             float64\n",
      "Eccentricity                     float64\n",
      "Insolation Flux                  float64\n",
      "Equilibrium Temperature           object\n",
      "Spectral Type                     object\n",
      "Stellar Effective Temperature    float64\n",
      "Stellar Radius                   float64\n",
      "Stellar Mass                     float64\n",
      "Stellar Metallicity               object\n",
      "Stellar Metallicity Ratio         object\n",
      "Stellar Surface Gravity          float64\n",
      "Distance                         float64\n",
      "Gaia Magnitude                   float64\n",
      "dtype: object\n"
     ]
    }
   ],
   "source": [
    "print(df.dtypes)"
   ]
  },
  {
   "attachments": {},
   "cell_type": "markdown",
   "metadata": {},
   "source": [
    "2. Reciba el nombre de una columna str y una numerica"
   ]
  },
  {
   "cell_type": "code",
   "execution_count": 18,
   "metadata": {},
   "outputs": [
    {
     "name": "stdout",
     "output_type": "stream",
     "text": [
      "Planet Name \n",
      " Orbit Semi-Major Axis\n"
     ]
    }
   ],
   "source": [
    "columna1 = input(\"Ingrese el nombre de la columna STR: \").strip()\n",
    "columna2 = input(\"Ingrese el nombre de la columna NUMERICA: \").strip()\n",
    "# Planet Name  \n",
    "# Orbit Semi-Major Axis\n",
    "print(columna1,'\\n',columna2)"
   ]
  },
  {
   "attachments": {},
   "cell_type": "markdown",
   "metadata": {},
   "source": [
    "3. Diga los valores únicos de esa columna"
   ]
  },
  {
   "cell_type": "code",
   "execution_count": 19,
   "metadata": {},
   "outputs": [
    {
     "name": "stdout",
     "output_type": "stream",
     "text": [
      "['11 Com b' '11 UMi b' '14 And b' ... 'ups And c' 'ups And d' 'xi Aql b']\n",
      "[1.29     1.53     0.83     ... 0.059222 0.827774 2.51329 ]\n"
     ]
    }
   ],
   "source": [
    "print(df[columna1].unique())\n",
    "print(df[columna2].unique())"
   ]
  },
  {
   "attachments": {},
   "cell_type": "markdown",
   "metadata": {},
   "source": [
    "\n",
    "4. que el usuario pueda ingresar uno de esos valors para filtrar los datos por ese valor\n"
   ]
  },
  {
   "cell_type": "code",
   "execution_count": 32,
   "metadata": {},
   "outputs": [
    {
     "ename": "SyntaxError",
     "evalue": "invalid syntax (<unknown>, line 1)",
     "output_type": "error",
     "traceback": [
      "Traceback \u001b[1;36m(most recent call last)\u001b[0m:\n",
      "\u001b[0m  File \u001b[0;32mc:\\Users\\USUARIO WINDOWS\\miniconda3\\lib\\site-packages\\IPython\\core\\interactiveshell.py:3460\u001b[0m in \u001b[0;35mrun_code\u001b[0m\n    exec(code_obj, self.user_global_ns, self.user_ns)\u001b[0m\n",
      "\u001b[0m  Cell \u001b[0;32mIn[32], line 10\u001b[0m\n    tabla_filtrada = df.query(condicion)\u001b[0m\n",
      "\u001b[0m  File \u001b[0;32mc:\\Users\\USUARIO WINDOWS\\miniconda3\\lib\\site-packages\\pandas\\util\\_decorators.py:331\u001b[0m in \u001b[0;35mwrapper\u001b[0m\n    return func(*args, **kwargs)\u001b[0m\n",
      "\u001b[0m  File \u001b[0;32mc:\\Users\\USUARIO WINDOWS\\miniconda3\\lib\\site-packages\\pandas\\core\\frame.py:4474\u001b[0m in \u001b[0;35mquery\u001b[0m\n    res = self.eval(expr, **kwargs)\u001b[0m\n",
      "\u001b[0m  File \u001b[0;32mc:\\Users\\USUARIO WINDOWS\\miniconda3\\lib\\site-packages\\pandas\\util\\_decorators.py:331\u001b[0m in \u001b[0;35mwrapper\u001b[0m\n    return func(*args, **kwargs)\u001b[0m\n",
      "\u001b[0m  File \u001b[0;32mc:\\Users\\USUARIO WINDOWS\\miniconda3\\lib\\site-packages\\pandas\\core\\frame.py:4612\u001b[0m in \u001b[0;35meval\u001b[0m\n    return _eval(expr, inplace=inplace, **kwargs)\u001b[0m\n",
      "\u001b[0m  File \u001b[0;32mc:\\Users\\USUARIO WINDOWS\\miniconda3\\lib\\site-packages\\pandas\\core\\computation\\eval.py:353\u001b[0m in \u001b[0;35meval\u001b[0m\n    parsed_expr = Expr(expr, engine=engine, parser=parser, env=env)\u001b[0m\n",
      "\u001b[0m  File \u001b[0;32mc:\\Users\\USUARIO WINDOWS\\miniconda3\\lib\\site-packages\\pandas\\core\\computation\\expr.py:813\u001b[0m in \u001b[0;35m__init__\u001b[0m\n    self.terms = self.parse()\u001b[0m\n",
      "\u001b[0m  File \u001b[0;32mc:\\Users\\USUARIO WINDOWS\\miniconda3\\lib\\site-packages\\pandas\\core\\computation\\expr.py:832\u001b[0m in \u001b[0;35mparse\u001b[0m\n    return self._visitor.visit(self.expr)\u001b[0m\n",
      "\u001b[0m  File \u001b[0;32mc:\\Users\\USUARIO WINDOWS\\miniconda3\\lib\\site-packages\\pandas\\core\\computation\\expr.py:411\u001b[0m in \u001b[0;35mvisit\u001b[0m\n    raise e\u001b[0m\n",
      "\u001b[0m  File \u001b[0;32mc:\\Users\\USUARIO WINDOWS\\miniconda3\\lib\\site-packages\\pandas\\core\\computation\\expr.py:407\u001b[0m in \u001b[0;35mvisit\u001b[0m\n    node = ast.fix_missing_locations(ast.parse(clean))\u001b[0m\n",
      "\u001b[1;36m  File \u001b[1;32mc:\\Users\\USUARIO WINDOWS\\miniconda3\\lib\\ast.py:50\u001b[1;36m in \u001b[1;35mparse\u001b[1;36m\n\u001b[1;33m    return compile(source, filename, mode, flags,\u001b[1;36m\n",
      "\u001b[1;36m  File \u001b[1;32m<unknown>:1\u001b[1;36m\u001b[0m\n\u001b[1;33m    Discovery Year ==2007\u001b[0m\n\u001b[1;37m              ^\u001b[0m\n\u001b[1;31mSyntaxError\u001b[0m\u001b[1;31m:\u001b[0m invalid syntax\n"
     ]
    }
   ],
   "source": [
    "# # Solicitar la condición de filtrado al usuario\n",
    "# condicion = input(\"Ingrese la condición de filtrado (usando sintaxis de consulta de Pandas, por ejemplo 'nombre_columna > 25', '== 2', '<= 2'): \")\n",
    "\n",
    "# Filtrar el DataFrame según la condición proporcionada\n",
    "condicion = \"Discovery Year == 2007\"\n",
    "tabla_filtrada = df.query(condicion)\n",
    "\n",
    "print(\"Tabla filtrada:\")\n",
    "print(tabla_filtrada)\n",
    "\n",
    "\n"
   ]
  },
  {
   "attachments": {},
   "cell_type": "markdown",
   "metadata": {},
   "source": [
    "5. Debe guardar en A los datos numericos sin los valores de esa columna numerica\n"
   ]
  },
  {
   "attachments": {},
   "cell_type": "markdown",
   "metadata": {},
   "source": [
    "6. Debe guardar en Y los datos de esa columna numerica\n"
   ]
  },
  {
   "attachments": {},
   "cell_type": "markdown",
   "metadata": {},
   "source": [
    "7. solucionar sistema AX=Y\n"
   ]
  },
  {
   "attachments": {},
   "cell_type": "markdown",
   "metadata": {},
   "source": [
    "8. Exportar la solución en csv o excel"
   ]
  }
 ],
 "metadata": {
  "kernelspec": {
   "display_name": "base",
   "language": "python",
   "name": "python3"
  },
  "language_info": {
   "codemirror_mode": {
    "name": "ipython",
    "version": 3
   },
   "file_extension": ".py",
   "mimetype": "text/x-python",
   "name": "python",
   "nbconvert_exporter": "python",
   "pygments_lexer": "ipython3",
   "version": "3.10.9"
  },
  "orig_nbformat": 4
 },
 "nbformat": 4,
 "nbformat_minor": 2
}
