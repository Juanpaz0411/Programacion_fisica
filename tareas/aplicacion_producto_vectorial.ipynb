{
  "cells": [
    {
      "attachments": {},
      "cell_type": "markdown",
      "metadata": {
        "colab_type": "text",
        "id": "view-in-github"
      },
      "source": [
        "<a href=\"https://colab.research.google.com/github/Juanpaz0411/Programacion_fisica/blob/master/tarea_producto_vectorial.ipynb\" target=\"_parent\"><img src=\"https://colab.research.google.com/assets/colab-badge.svg\" alt=\"Open In Colab\"/></a>"
      ]
    },
    {
      "attachments": {},
      "cell_type": "markdown",
      "metadata": {
        "id": "UoD_YWuPTelI"
      },
      "source": [
        "MI PRIMER PROGRAMA\n"
      ]
    },
    {
      "cell_type": "code",
      "execution_count": 15,
      "metadata": {
        "colab": {
          "base_uri": "https://localhost:8080/",
          "height": 53
        },
        "id": "BBo52h-bThaK",
        "outputId": "a2851b76-a893-4979-a141-fd537575c586"
      },
      "outputs": [
        {
          "data": {
            "application/vnd.google.colaboratory.intrinsic+json": {
              "type": "string"
            },
            "text/plain": [
              "' |i  j  k |\\n    |sx sy sz|=(sy*z1-y1*sz)i - (sx*z1-x1*sz)j + (sx*y1-x1*sy)k = (sy*z1-y1*sz)i + (x1*sz-sx*z1)j + (sx*y1-x1*sy)k\\n    |x1 y1 z1|\\n'"
            ]
          },
          "execution_count": 15,
          "metadata": {},
          "output_type": "execute_result"
        }
      ],
      "source": [
        "import math\n",
        "class Vector:\n",
        "  def __init__(self, coordenada_x, coordenada_y, coordenada_z):\n",
        "    self.x = coordenada_x\n",
        "    self.y = coordenada_y\n",
        "    self.z = coordenada_z\n",
        "    self.magnitud = (self.x**2 + self.y**2 + self.z**2)**0.5\n",
        "\n",
        "  \n",
        "  def __str__(self):\n",
        "    respuesta = \"( \"+str(self.x)+\" , \"+str(self.y)+\" , \"+str(self.z)+\" )\"\n",
        "    return(respuesta)\n",
        "\n",
        "\n",
        "  def productovectorial(self, seg):\n",
        "    return(self.y*seg.z-self.z*seg.y, \\\n",
        "                         self.z*seg.x-self.x*seg.z,  \\\n",
        "                         self.x*seg.y-self.y*seg.x)\n",
        "    \n",
        "  def suma(self, otro):\n",
        "    return(self.x+otro.x, self.y+otro.y, self.z+otro.z )\n",
        "  \n",
        "  def product(self, otros):\n",
        "    return( self.x*otros.y, self.y*otros.y, self.z*otros.y)\n",
        "\n",
        "\"\"\" |i  j  k |\n",
        "    |sx sy sz|=(sy*z1-y1*sz)i - (sx*z1-x1*sz)j + (sx*y1-x1*sy)k = (sy*z1-y1*sz)i + (x1*sz-sx*z1)j + (sx*y1-x1*sy)k\n",
        "    |x1 y1 z1|\n",
        "\"\"\"\n",
        "\n",
        "\n",
        "\n",
        "    "
      ]
    },
    {
      "attachments": {},
      "cell_type": "markdown",
      "metadata": {
        "id": "rpym1WF1TkkR"
      },
      "source": [
        "USO DE OBJETOS"
      ]
    },
    {
      "cell_type": "code",
      "execution_count": null,
      "metadata": {
        "colab": {
          "base_uri": "https://localhost:8080/"
        },
        "id": "y6dShxxRTnbR",
        "outputId": "d74a7343-aa51-40d5-b97a-0f4422714b13"
      },
      "outputs": [
        {
          "name": "stdout",
          "output_type": "stream",
          "text": [
            "ingrese coordenada x_1:1\n",
            "ingrese coordenada y_1:2\n",
            "ingrese coordenada z_1:2\n",
            "ingrese coordenada x_2:3\n",
            "ingrese coordenada y_2:2\n",
            "ingrese coordenada z_2:1\n",
            "posicion del vector 1: ( 1.0 , 2.0 , 2.0 )\n",
            "posicion del vector 2: ( 3.0 , 2.0 , 1.0 )\n",
            "magnitud del vector 1: 3.0\n",
            "magnitud del vector 2: 3.7416573867739413\n",
            "vector perpendicular a los dos vectores: (-2.0, -5.0, -4.0)\n",
            "adision de vector 1 y 2: (4.0, 4.0, 3.0)\n"
          ]
        }
      ],
      "source": [
        "x_1 = float(input(\"ingrese coordenada x_1:\"))\n",
        "y_1 = float(input(\"ingrese coordenada y_1:\"))\n",
        "z_1 = float(input(\"ingrese coordenada z_1:\"))\n",
        "\n",
        "\n",
        "x_2 = float(input(\"ingrese coordenada x_2:\"))                                           \n",
        "y_2 = float(input(\"ingrese coordenada y_2:\"))\n",
        "z_2 = float(input(\"ingrese coordenada z_2:\"))\n",
        "\n",
        "vec_1=Vector(x_1,y_1,z_1)\n",
        "vec_2=Vector(x_2,y_2,z_2)\n",
        "\n",
        "print(\"posicion del vector 1:\",vec_1)\n",
        "print(\"posicion del vector 2:\",vec_2)\n",
        "print(\"magnitud del vector 1:\", vec_1.magnitud)\n",
        "print(\"magnitud del vector 2:\", vec_2.magnitud)\n",
        "print(\"vector perpendicular a los dos vectores:\", vec_1.productovectorial(vec_2))\n",
        "print(\"adision de vector 1 y 2:\", vec_1.suma(vec_2))"
      ]
    },
    {
      "attachments": {},
      "cell_type": "markdown",
      "metadata": {
        "id": "lKyzXDueWwv6"
      },
      "source": [
        "USO DEL PRODUCTO VECTORIAL EN EL CALCULO DEL MOMENTO ANGULAR "
      ]
    },
    {
      "cell_type": "code",
      "execution_count": 16,
      "metadata": {
        "colab": {
          "base_uri": "https://localhost:8080/"
        },
        "id": "2qoO3tlEWq_E",
        "outputId": "0d35594c-c063-44f5-9ca7-ce5f4ccd774e"
      },
      "outputs": [
        {
          "name": "stdout",
          "output_type": "stream",
          "text": [
            "ingrese coordenadas del vector posicion:\n",
            "x_3=12\n",
            "y_3=23\n",
            "z_3=34\n",
            "ingrese coordenadas del vector velocidad:\n",
            "x_4=12\n",
            "y_4=34\n",
            "z_4=56\n",
            "ingrese la masa en kg:\n",
            "masa=12\n",
            "producto de la masa y la velocidad es:\n",
            "p= (144.0, 408.0, 672.0)\n",
            "el producto vectorial entre el vector posición y el vector momento lineal es:\n",
            "L= (1584.0, -3168.0, 1584.0)\n"
          ]
        }
      ],
      "source": [
        "\"\"\"\n",
        "recordemos que el momento angular <L=r x mv> o bien <L=r x p>, donde \"m\" es el escalar masa y \"v\" es el vector velocidad y \"p\" es el momento lineal de la particula.\n",
        "\n",
        "\"\"\"\n",
        "print(\"ingrese coordenadas del vector posicion:\")\n",
        "x_3=float(input(\"x_3=\"))\n",
        "y_3=float(input(\"y_3=\"))\n",
        "z_3=float(input(\"z_3=\"))\n",
        "\n",
        "print(\"ingrese coordenadas del vector velocidad:\")\n",
        "\n",
        "x_4=float(input(\"x_4=\"))\n",
        "y_4=float(input(\"y_4=\"))\n",
        "z_4=float(input(\"z_4=\"))\n",
        "\n",
        "print(\"ingrese la masa en kg:\")\n",
        "\n",
        "x_5=0\n",
        "y_5=float(input(\"masa=\"))\n",
        "z_5=0\n",
        "\n",
        "Vec_3=Vector(x_3, y_3, z_3)\n",
        "Vec_4=Vector(x_4, y_4, z_4)\n",
        "Vec_5=Vector(x_5, y_5, z_5)\n",
        "print(\"producto de la masa y la velocidad es:\")\n",
        "print(\"p=\", Vec_4.product(Vec_5))\n",
        "\n",
        "vec_6=Vector(x_4*y_5, y_4*y_5, z_4*y_5)\n",
        "\n",
        "print(\"el producto vectorial entre el vector posición y el vector momento lineal es:\")\n",
        "\n",
        "print(\"L=\", Vec_3.productovectorial(vec_6))\n",
        "\n",
        "\n",
        "\n"
      ]
    }
  ],
  "metadata": {
    "colab": {
      "include_colab_link": true,
      "provenance": [],
      "toc_visible": true
    },
    "kernelspec": {
      "display_name": "env",
      "language": "python",
      "name": "python3"
    },
    "language_info": {
      "name": "python",
      "version": "3.10.9"
    },
    "vscode": {
      "interpreter": {
        "hash": "ddbfdfb03ba81c261e8f40111b6363c4fcb33397f0c7c818194433d53f2a7cf0"
      }
    }
  },
  "nbformat": 4,
  "nbformat_minor": 0
}
