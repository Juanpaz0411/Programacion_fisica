{
 "cells": [
  {
   "attachments": {},
   "cell_type": "markdown",
   "metadata": {},
   "source": [
    "# Taller python funcional"
   ]
  },
  {
   "attachments": {},
   "cell_type": "markdown",
   "metadata": {},
   "source": [
    "1. Escriba un programa en Python para triplicar todos los números en una lista dada de enteros."
   ]
  },
  {
   "cell_type": "code",
   "execution_count": 34,
   "metadata": {},
   "outputs": [
    {
     "name": "stdout",
     "output_type": "stream",
     "text": [
      "La lista base es: [3, 3, 1, 4, 3]\n",
      "lista triplicada [27, 27, 1, 64, 27]\n",
      "el numero 3 fue triplicado: 27\n",
      "el numero 1 fue triplicado: 1\n",
      "el numero 4 fue triplicado: 64\n"
     ]
    }
   ],
   "source": [
    "import random\n",
    "\n",
    "lista_enteros = [random.randint(1, 5) for _ in range(5)]\n",
    "triplicar_lista = list(map(lambda x: x**3, lista_enteros))#a cada elemento de lista_enteros aplicar la funcion lambda especificada.\n",
    "dic_resultado = dict(zip(lista_enteros, triplicar_lista))#zip convina en clave valor antes de volverlo un diccionario:\n",
    "\n",
    "print('La lista base es:', lista_enteros)\n",
    "print('lista triplicada:', triplicar_lista)\n",
    "for i,j in dic_resultado.items():\n",
    "    print(f'el numero {i} fue triplicado: {j}')\n"
   ]
  },
  {
   "attachments": {},
   "cell_type": "markdown",
   "metadata": {},
   "source": [
    "2. Escriba un programa de Python para agregar tres listas dadas."
   ]
  },
  {
   "cell_type": "code",
   "execution_count": 4,
   "metadata": {},
   "outputs": [
    {
     "name": "stdout",
     "output_type": "stream",
     "text": [
      "[61, 64, 67, 70, 73, 76, 79, 82, 85, 88, 91, 94, 97, 100]\n"
     ]
    }
   ],
   "source": [
    "l1 = list(range(1,15))\n",
    "l2 = list(range(15,30))\n",
    "l3 = list(range(45,60))\n",
    "\n",
    "suma = list(map(lambda x, y, z: x+y+z, l1, l2, l3 ))\n",
    "print(suma)"
   ]
  },
  {
   "attachments": {},
   "cell_type": "markdown",
   "metadata": {},
   "source": [
    "3. Escriba un programa de Python para listar la lista de cadenas dadas individualmente."
   ]
  },
  {
   "cell_type": "code",
   "execution_count": 10,
   "metadata": {},
   "outputs": [
    {
     "name": "stdout",
     "output_type": "stream",
     "text": [
      "['i', 'i', 'o', 'i', 'o']\n",
      "i\n",
      "i\n",
      "o\n",
      "i\n",
      "o\n"
     ]
    }
   ],
   "source": [
    "import random\n",
    "vocales = ['a', 'e', 'i', 'o', 'u']\n",
    "vocales_aleatorias = random.choices(vocales, k=5)\n",
    "\n",
    "print(vocales_aleatorias)\n",
    "y = list(map(lambda x: print(x), vocales_aleatorias))"
   ]
  },
  {
   "attachments": {},
   "cell_type": "markdown",
   "metadata": {},
   "source": [
    "4. Escriba un programa en Python para crear una lista que contenga la potencia de dicho número en bases elevadas al número correspondiente en el índice."
   ]
  },
  {
   "cell_type": "code",
   "execution_count": 13,
   "metadata": {},
   "outputs": [
    {
     "name": "stdout",
     "output_type": "stream",
     "text": [
      "16225\n",
      "[3, 6, 3, 1]\n",
      "[4271241390625, 18243503016988183837890625, 4271241390625, 16225]\n"
     ]
    }
   ],
   "source": [
    "import random\n",
    "base = random.randint(1,20000)\n",
    "exponentes = [random.randint(0,10) for _ in range(random.randint(1,20))]\n",
    "\n",
    "resultado = list(map(lambda x: base ** x, exponentes))\n",
    "\n",
    "print(base)\n",
    "print(exponentes)\n",
    "print(resultado)"
   ]
  },
  {
   "attachments": {},
   "cell_type": "markdown",
   "metadata": {},
   "source": [
    "5. Escriba un programa Python para cuadrar los elementos de una lista."
   ]
  },
  {
   "cell_type": "code",
   "execution_count": 19,
   "metadata": {},
   "outputs": [
    {
     "name": "stdout",
     "output_type": "stream",
     "text": [
      "[0, 1, 2, 3, 4, 5, 6, 7, 8, 9]\n",
      "[0, 1, 4, 9, 16, 25, 36, 49, 64, 81]\n",
      "los numeros al cuadrado son\n",
      "0^2=0\n",
      "1^2=1\n",
      "2^2=4\n",
      "3^2=9\n",
      "4^2=16\n",
      "5^2=25\n",
      "6^2=36\n",
      "7^2=49\n",
      "8^2=64\n",
      "9^2=81\n"
     ]
    }
   ],
   "source": [
    "import random\n",
    "number = list(range(random.randint(2,20)))\n",
    "cuadrado = list(map(lambda x: x**2, number))\n",
    "resultado = dict(zip(number,cuadrado))\n",
    "\n",
    "print(number)\n",
    "print(cuadrado)\n",
    "print('los numeros al cuadrado son')\n",
    "for i, j in resultado.items():\n",
    "    print(f'{i}^2={j}')"
   ]
  },
  {
   "attachments": {},
   "cell_type": "markdown",
   "metadata": {},
   "source": [
    "6. Escriba un programa en Python para convertir todos los caracteres en mayúsculas y minúsculas y eliminar las letras duplicadas de una secuencia determinada."
   ]
  },
  {
   "cell_type": "code",
   "execution_count": 9,
   "metadata": {},
   "outputs": [
    {
     "name": "stdout",
     "output_type": "stream",
     "text": [
      "PRIMERO QUE NADA BUENAS TARDES TARDES\n",
      "primero que nada buenas tardes tardes\n",
      "{'R', ' ', 'a', 's', 'u', 'o', 'd', 'n', 'e', 'P', 'r', 'b', 't', 'q', 'M', 'I'}\n",
      "R- -a-s-u-o-d-n-e-P-r-b-t-q-M-I\n"
     ]
    }
   ],
   "source": [
    "secuencia = 'PRIMero que nada buenas tardes tardes'\n",
    "quitar_dobles = '-'.join(set(secuencia))\n",
    "#set(secuencia) crea un conjunto a partir de la secuencia dada. Un conjunto en Python es una colección desordenada de elementos únicos, lo que significa que no puede contener elementos duplicados.\n",
    "#se utiliza la función join() para concatenar estos elementos en una cadena. \n",
    "print(secuencia.upper())\n",
    "print(secuencia.lower())\n",
    "print(set(secuencia))\n",
    "print(quitar_dobles)"
   ]
  },
  {
   "attachments": {},
   "cell_type": "markdown",
   "metadata": {},
   "source": [
    "7. Escriba un programa Python para agregar dos listas dadas y encontrar la diferencia entre ellas."
   ]
  },
  {
   "cell_type": "code",
   "execution_count": 24,
   "metadata": {},
   "outputs": [
    {
     "name": "stdout",
     "output_type": "stream",
     "text": [
      "las listas son\n",
      " [79, 23, 58, 59, 41, 58, 36, 97, 1, 49, 80] \n",
      " [38, 26, 19, 32, 44, 41, 35, 25, 14, 22, 17]\n",
      "\n",
      "la resta entre ellas es\n",
      "[41, -3, 39, 27, -3, 17, 1, 72, -13, 27, 63]\n",
      "\n",
      "la suma es\n",
      " [117, 49, 77, 91, 85, 99, 71, 122, 15, 71, 97]\n",
      "\n",
      "la diferencia es\n",
      " 268\n"
     ]
    },
    {
     "data": {
      "text/plain": [
       "'\\nreduce() es una funcion que Recibe una función binaria y una secuencia como argumentos y reduce (reduce en inglés significa reducir) la secuencia a un solo valor aplicando repetidamente la función a los elementos de la secuencia.\\n\\nreduce(función, secuencia)\\n\\n- función: Es la función binaria que se aplicará repetidamente a los elementos de la secuencia. Debe aceptar dos argumentos y devolver un resultado.\\n- secuencia: Es la secuencia que se va a reducir a un solo valor aplicando la función.\\n'"
      ]
     },
     "execution_count": 24,
     "metadata": {},
     "output_type": "execute_result"
    }
   ],
   "source": [
    "from functools import reduce\n",
    "import random\n",
    "l1 = [random.randint(0,100) for _ in range(random.randint(1,14))]\n",
    "l2 = [random.randint(0,50) for _ in range(len(l1))]\n",
    "resta = list(map(lambda x,y: x-y,l1, l2))\n",
    "\n",
    "print('las listas son\\n',l1,'\\n',l2)\n",
    "print(f'\\nla resta entre ellas es\\n{resta}')\n",
    "print('\\nla suma es\\n', list(map(lambda x,y: x+y, l1, l2)))\n",
    "print('\\nla diferencia es\\n', reduce(lambda x,y: x+y, resta))\n",
    "\n",
    "'''\n",
    "reduce() es una funcion que Recibe una función binaria y una secuencia como argumentos y reduce (reduce en inglés significa reducir) la secuencia a un solo valor aplicando repetidamente la función a los elementos de la secuencia.\n",
    "\n",
    "reduce(función, secuencia)\n",
    "\n",
    "- función: Es la función binaria que se aplicará repetidamente a los elementos de la secuencia. Debe aceptar dos argumentos y devolver un resultado.\n",
    "- secuencia: Es la secuencia que se va a reducir a un solo valor aplicando la función.\n",
    "'''"
   ]
  },
  {
   "attachments": {},
   "cell_type": "markdown",
   "metadata": {},
   "source": [
    "8. Escriba un programa en Python para convertir una lista dada de enteros y una tupla de enteros en una lista de cadenas."
   ]
  },
  {
   "cell_type": "code",
   "execution_count": 34,
   "metadata": {},
   "outputs": [
    {
     "name": "stdout",
     "output_type": "stream",
     "text": [
      "[5, 10, 6, 1] \n",
      " (8, 8, 3, 8) \n",
      "\n",
      " ['5', '10', '6', '1', '8', '8', '3', '8']\n"
     ]
    }
   ],
   "source": [
    "import random\n",
    "l = [random.randint(1,12) for _ in range(random.randint(1,7))]\n",
    "t = tuple(random.randint(1,12) for _ in range(len(l)))\n",
    "\n",
    "print(l,'\\n',t,'\\n\\n',list(map(lambda x: str(x), l+list(t))))\n"
   ]
  },
  {
   "attachments": {},
   "cell_type": "markdown",
   "metadata": {},
   "source": [
    "9. Escriba un programa de Python para crear una nueva lista que tome elementos específicos de una tupla y convierta un valor de cadena en un número entero."
   ]
  },
  {
   "cell_type": "code",
   "execution_count": 56,
   "metadata": {},
   "outputs": [
    {
     "name": "stdout",
     "output_type": "stream",
     "text": [
      "tupla de elementos numericos en str:  ('6', '4', '4', '3', '5', '1', '10', '12')\n",
      "lista de elementos str en formato numerico:  [1, 4, 1, 5, 3, 5, 5, 3]\n"
     ]
    }
   ],
   "source": [
    "import random\n",
    "\n",
    "t = tuple(str(random.randint(1,12)) for _ in range(random.randint(2,20)))\n",
    "indices = tuple(random.randint(0,len(t)-1) for _ in range(len(t)))\n",
    "elementos = list(map(lambda i: int(t[i]), indices))\n",
    "\n",
    "print('tupla de elementos numericos en str: ', t)\n",
    "print('lista de elementos str en formato numerico: ', elementos)\n"
   ]
  },
  {
   "attachments": {},
   "cell_type": "markdown",
   "metadata": {},
   "source": [
    "10. Escriba un programa en Python para calcular el cuadrado de los primeros N números de Fibonacci y genere una lista de los números."
   ]
  },
  {
   "cell_type": "code",
   "execution_count": 60,
   "metadata": {},
   "outputs": [
    {
     "name": "stdout",
     "output_type": "stream",
     "text": [
      "Los primeros 7 números de Fibonacci elevados al cuadrado son: [0, 1, 1, 4, 9, 25, 64, 169]\n"
     ]
    }
   ],
   "source": [
    "from functools import reduce\n",
    "\n",
    "def fibonacci(n):\n",
    "    fib = [0, 1]\n",
    "    for i in range(2, n+1):\n",
    "        fib.append(fib[i-1] + fib[i-2])\n",
    "    return fib\n",
    "\n",
    "n = int(input(\"Ingrese el valor de N: \"))\n",
    "fibonacci_secuencia = fibonacci(n)\n",
    "\n",
    "fibonacci__cuadrados = list(map(lambda x: x**2, fibonacci_secuencia))\n",
    "\n",
    "fibonacci__cuadrados_lista = reduce(lambda x, y: x + [y], fibonacci__cuadrados, [])\n",
    "\n",
    "print(f\"Los primeros {n} números de Fibonacci elevados al cuadrado son: {fibonacci__cuadrados_lista}\")"
   ]
  },
  {
   "attachments": {},
   "cell_type": "markdown",
   "metadata": {},
   "source": [
    "11. Escriba un programa en Python para calcular la suma de los elementos de una matriz de enteros."
   ]
  },
  {
   "cell_type": "code",
   "execution_count": 14,
   "metadata": {},
   "outputs": [
    {
     "name": "stdout",
     "output_type": "stream",
     "text": [
      "45\n"
     ]
    }
   ],
   "source": [
    "from functools import reduce\n",
    "\n",
    "matriz = [[1, 2, 3], [4, 5, 6], [7, 8, 9]]\n",
    "\n",
    "suma = reduce(lambda x, y: x + y, [reduce(lambda x, y: x + y, fila) for fila in matriz])\n",
    "\n",
    "print(suma)"
   ]
  },
  {
   "attachments": {},
   "cell_type": "markdown",
   "metadata": {},
   "source": [
    "12. Escriba un programa en Python para encontrar la razón de números positivos, números negativos y ceros en una matriz de enteros."
   ]
  },
  {
   "cell_type": "code",
   "execution_count": 11,
   "metadata": {},
   "outputs": [
    {
     "name": "stdout",
     "output_type": "stream",
     "text": [
      "Razón de números positivos: 0.45\n",
      "Razón de números negativos: 0.36\n",
      "Razón de ceros: 0.18\n"
     ]
    }
   ],
   "source": [
    "numeros = [1, -2, 0, 3, -4, 5, 0, -6, 7, 8, -9]\n",
    "\n",
    "positivos = list(filter(lambda x: x > 0, numeros))\n",
    "negativos = list(filter(lambda x: x < 0, numeros))\n",
    "ceros = list(filter(lambda x: x == 0, numeros))\n",
    "\n",
    "razon_positivos = len(positivos) / len(numeros)\n",
    "razon_negativos = len(negativos) / len(numeros)\n",
    "razon_ceros = len(ceros) / len(numeros)\n",
    "\n",
    "print(f\"Razón de números positivos: {razon_positivos:.2f}\")\n",
    "print(f\"Razón de números negativos: {razon_negativos:.2f}\")\n",
    "print(f\"Razón de ceros: {razon_ceros:.2f}\")\n"
   ]
  },
  {
   "attachments": {},
   "cell_type": "markdown",
   "metadata": {},
   "source": [
    "13. Escriba un programa Python para intercalar dos listas en otra lista al azar."
   ]
  },
  {
   "cell_type": "code",
   "execution_count": 114,
   "metadata": {},
   "outputs": [
    {
     "name": "stdout",
     "output_type": "stream",
     "text": [
      " [1, 4, 4, 4, 4, 4] \n",
      " [5, 2, 1, 3, 5, 5]\n",
      "[4, 1, 2, 5, 4, 5, 1, 4, 5, 4, 4, 3]\n"
     ]
    }
   ],
   "source": [
    "import random\n",
    "\n",
    "l1 = [random.randint(1, 5) for _ in range(random.randint(1, 7))]\n",
    "l2 = [random.randint(1, 5) for _ in range(len(l1))]\n",
    "\n",
    "intercala = l1 + l2\n",
    "random.shuffle(intercala)\n",
    "\n",
    "print('',l1,'\\n',l2)\n",
    "print(intercala)\n"
   ]
  },
  {
   "attachments": {},
   "cell_type": "markdown",
   "metadata": {},
   "source": [
    "14. Escriba un programa Python para dividir un diccionario dado de listas en una lista de diccionarios utilizando la función de mapa."
   ]
  },
  {
   "cell_type": "code",
   "execution_count": 100,
   "metadata": {},
   "outputs": [
    {
     "name": "stdout",
     "output_type": "stream",
     "text": [
      "[{'l1': 1, 'l2': 4, 'l3': 7}, {'l1': 2, 'l2': 5, 'l3': 8}]\n"
     ]
    }
   ],
   "source": [
    "diccionario = {\n",
    "    'l1': [1, 2],\n",
    "    'l2': [4, 5],\n",
    "    'l3': [7, 8]\n",
    "}\n",
    "\n",
    "lista_diccionarios = [ {k: v[i] for k, v in diccionario.items()} for i in range(len(next(iter(diccionario.values())))) ]\n",
    "\n",
    "print(lista_diccionarios)"
   ]
  },
  {
   "attachments": {},
   "cell_type": "markdown",
   "metadata": {},
   "source": [
    "15. Escriba un programa en Python para convertir una lista dada de cadenas en una lista de listas usando la función map."
   ]
  },
  {
   "cell_type": "code",
   "execution_count": 90,
   "metadata": {},
   "outputs": [
    {
     "name": "stdout",
     "output_type": "stream",
     "text": [
      "[['a'], ['e'], ['i'], ['o'], ['u']]\n"
     ]
    }
   ],
   "source": [
    "vocales = ['a', 'e', 'i', 'o', 'u']\n",
    "listas = [[s] for s in vocales]\n",
    "\n",
    "print(vocales)\n",
    "print(listas)"
   ]
  },
  {
   "attachments": {},
   "cell_type": "markdown",
   "metadata": {},
   "source": [
    "16. Escriba un programa en Python para convertir una lista dada de tuplas en una lista de cadenas usando la función map."
   ]
  },
  {
   "cell_type": "code",
   "execution_count": 65,
   "metadata": {},
   "outputs": [
    {
     "name": "stdout",
     "output_type": "stream",
     "text": [
      "[(10, 8, 5, 5), (3, 7, 6, 5), (7, 3, 5, 5)]\n",
      "['10855', '3765', '7355']\n"
     ]
    }
   ],
   "source": [
    "import random\n",
    "\n",
    "lt = [\n",
    "    tuple(random.randint(0, 10) for _ in range(4)),\n",
    "    tuple(random.randint(0, 10) for _ in range(4)),\n",
    "    tuple(random.randint(0, 10) for _ in range(4))\n",
    "]\n",
    "\n",
    "cadena = list(map(lambda tupla: ''.join(map(str, tupla)), lt))\n",
    "'''\n",
    "map(str, tupla):  map() aplica la función str() a cada elemento de la tupla.\n",
    "Esto convierte cada elemento de la tupla en una cadena.\n",
    "Por ejemplo, si tenemos la tupla (1, 2, 3), se aplica str() a cada elemento y obtenemos\n",
    "('1', '2', '3').\n",
    "'''\n",
    "print(lt)\n",
    "print(cadena)#afkljdskfjal"
   ]
  }
 ],
 "metadata": {
  "kernelspec": {
   "display_name": "base",
   "language": "python",
   "name": "python3"
  },
  "language_info": {
   "codemirror_mode": {
    "name": "ipython",
    "version": 3
   },
   "file_extension": ".py",
   "mimetype": "text/x-python",
   "name": "python",
   "nbconvert_exporter": "python",
   "pygments_lexer": "ipython3",
   "version": "3.10.9"
  },
  "orig_nbformat": 4
 },
 "nbformat": 4,
 "nbformat_minor": 2
}
