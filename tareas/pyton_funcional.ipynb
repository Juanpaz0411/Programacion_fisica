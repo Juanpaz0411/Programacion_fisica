{
 "cells": [
  {
   "attachments": {},
   "cell_type": "markdown",
   "metadata": {},
   "source": [
    "1. Escriba un programa en Python para triplicar todos los números en una lista dada de enteros."
   ]
  },
  {
   "cell_type": "code",
   "execution_count": 34,
   "metadata": {},
   "outputs": [
    {
     "name": "stdout",
     "output_type": "stream",
     "text": [
      "La lista base es: [3, 3, 1, 4, 3]\n",
      "lista triplicada [27, 27, 1, 64, 27]\n",
      "el numero 3 fue triplicado: 27\n",
      "el numero 1 fue triplicado: 1\n",
      "el numero 4 fue triplicado: 64\n"
     ]
    }
   ],
   "source": [
    "import random\n",
    "\n",
    "lista_enteros = [random.randint(1, 5) for _ in range(5)]\n",
    "triplicar_lista = list(map(lambda x: x**3, lista_enteros))#a cada elemento de lista_enteros aplicar la funcion lambda especificada.\n",
    "dic_resultado = dict(zip(lista_enteros, triplicar_lista))#zip convina en clave valor antes de volverlo un diccionario:\n",
    "\n",
    "print('La lista base es:', lista_enteros)\n",
    "print('lista triplicada:', triplicar_lista)\n",
    "for i,j in dic_resultado.items():\n",
    "    print(f'el numero {i} fue triplicado: {j}')\n"
   ]
  },
  {
   "attachments": {},
   "cell_type": "markdown",
   "metadata": {},
   "source": [
    "2. Escriba un programa de Python para agregar tres listas dadas."
   ]
  },
  {
   "attachments": {},
   "cell_type": "markdown",
   "metadata": {},
   "source": [
    "3. Escriba un programa de Python para listar la lista de cadenas dadas individualmente."
   ]
  },
  {
   "attachments": {},
   "cell_type": "markdown",
   "metadata": {},
   "source": [
    "4. Escriba un programa en Python para crear una lista que contenga la potencia de dicho número en bases elevadas al número correspondiente en el índice."
   ]
  },
  {
   "attachments": {},
   "cell_type": "markdown",
   "metadata": {},
   "source": [
    "5. Escriba un programa Python para cuadrar los elementos de una lista."
   ]
  },
  {
   "attachments": {},
   "cell_type": "markdown",
   "metadata": {},
   "source": [
    "6. Escriba un programa en Python para convertir todos los caracteres en mayúsculas y minúsculas y eliminar las letras duplicadas de una secuencia determinada."
   ]
  },
  {
   "attachments": {},
   "cell_type": "markdown",
   "metadata": {},
   "source": [
    "7. Escriba un programa Python para agregar dos listas dadas y encontrar la diferencia entre ellas."
   ]
  },
  {
   "attachments": {},
   "cell_type": "markdown",
   "metadata": {},
   "source": [
    "8. Escriba un programa en Python para convertir una lista dada de enteros y una tupla de enteros en una lista de cadenas."
   ]
  },
  {
   "attachments": {},
   "cell_type": "markdown",
   "metadata": {},
   "source": [
    "9. Escriba un programa de Python para crear una nueva lista que tome elementos específicos de una tupla y convierta un valor de cadena en un número entero."
   ]
  },
  {
   "attachments": {},
   "cell_type": "markdown",
   "metadata": {},
   "source": [
    "10. Escriba un programa en Python para calcular el cuadrado de los primeros N números de Fibonacci y genere una lista de los números."
   ]
  },
  {
   "attachments": {},
   "cell_type": "markdown",
   "metadata": {},
   "source": [
    "11. Escriba un programa en Python para calcular la suma de los elementos de una matriz de enteros."
   ]
  },
  {
   "attachments": {},
   "cell_type": "markdown",
   "metadata": {},
   "source": [
    "12. Escriba un programa en Python para encontrar la razón de números positivos, números negativos y ceros en una matriz de enteros."
   ]
  },
  {
   "attachments": {},
   "cell_type": "markdown",
   "metadata": {},
   "source": [
    "13. Escriba un programa Python para intercalar dos listas en otra lista al azar."
   ]
  },
  {
   "attachments": {},
   "cell_type": "markdown",
   "metadata": {},
   "source": [
    "14. Escriba un programa Python para dividir un diccionario dado de listas en una lista de diccionarios utilizando la función de mapa."
   ]
  },
  {
   "attachments": {},
   "cell_type": "markdown",
   "metadata": {},
   "source": [
    "15. Escriba un programa en Python para convertir una lista dada de cadenas en una lista de listas usando la función map."
   ]
  },
  {
   "attachments": {},
   "cell_type": "markdown",
   "metadata": {},
   "source": [
    "16. Escriba un programa en Python para convertir una lista dada de tuplas en una lista de cadenas usando la función map."
   ]
  }
 ],
 "metadata": {
  "kernelspec": {
   "display_name": "base",
   "language": "python",
   "name": "python3"
  },
  "language_info": {
   "codemirror_mode": {
    "name": "ipython",
    "version": 3
   },
   "file_extension": ".py",
   "mimetype": "text/x-python",
   "name": "python",
   "nbconvert_exporter": "python",
   "pygments_lexer": "ipython3",
   "version": "3.10.9"
  },
  "orig_nbformat": 4
 },
 "nbformat": 4,
 "nbformat_minor": 2
}
